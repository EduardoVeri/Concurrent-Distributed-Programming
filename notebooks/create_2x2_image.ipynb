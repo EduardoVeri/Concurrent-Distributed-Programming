{
 "cells": [
  {
   "cell_type": "markdown",
   "metadata": {},
   "source": [
    "### Import Required Libraries\n",
    "Import the necessary libraries, including matplotlib and imageio."
   ]
  },
  {
   "cell_type": "code",
   "execution_count": null,
   "metadata": {},
   "outputs": [],
   "source": [
    "# Import Required Libraries\n",
    "import matplotlib.pyplot as plt\n",
    "import imageio.v2 as imageio"
   ]
  },
  {
   "cell_type": "markdown",
   "metadata": {},
   "source": [
    "### Load Images\n",
    "Load the 4 images that will be used to create the 2x2 grid."
   ]
  },
  {
   "cell_type": "code",
   "execution_count": null,
   "metadata": {},
   "outputs": [],
   "source": [
    "# Load Images\n",
    "image1 = imageio.imread(\"../data/figs_heatmap/heatmap_X/step_00000.png\")\n",
    "image2 = imageio.imread(\"../data/figs_heatmap/heatmap_X/step_01000.png\")\n",
    "image3 = imageio.imread(\"../data/figs_heatmap/heatmap_X/step_05000.png\")\n",
    "image4 = imageio.imread(\"../data/figs_heatmap/heatmap_X/step_10000.png\")"
   ]
  },
  {
   "cell_type": "markdown",
   "metadata": {},
   "source": [
    "### Create 2x2 Grid\n",
    "Arrange the 4 images into a 2x2 grid using matplotlib."
   ]
  },
  {
   "cell_type": "code",
   "execution_count": null,
   "metadata": {},
   "outputs": [],
   "source": [
    "# Create 2x2 Grid\n",
    "fig, axes = plt.subplots(2, 2, figsize=(10, 10))\n",
    "\n",
    "# Arrange the images in a 2x2 grid\n",
    "axes[0, 0].imshow(image1)\n",
    "axes[0, 0].set_title(\"Condição Inicial\")\n",
    "axes[0, 1].imshow(image2)\n",
    "axes[0, 1].set_title(\"1000ª Iteração\")\n",
    "axes[1, 0].imshow(image3)\n",
    "axes[1, 0].set_title(\"5000ª Iteração\")\n",
    "axes[1, 1].imshow(image4)\n",
    "axes[1, 1].set_title(\"10000ª Iteração\")\n",
    "\n",
    "# Remove axis labels\n",
    "for ax in axes.flatten():\n",
    "    ax.axis(\"off\")\n",
    "\n",
    "plt.tight_layout()\n",
    "plt.show()"
   ]
  },
  {
   "cell_type": "markdown",
   "metadata": {},
   "source": [
    "### Save and Display the Result\n",
    "Save the resulting image and display it using matplotlib."
   ]
  },
  {
   "cell_type": "code",
   "execution_count": null,
   "metadata": {},
   "outputs": [],
   "source": [
    "fig.savefig(\"../docs/figs/heatmap.png\", dpi=300)"
   ]
  }
 ],
 "metadata": {
  "kernelspec": {
   "display_name": "Python 3",
   "language": "python",
   "name": "python3"
  },
  "language_info": {
   "codemirror_mode": {
    "name": "ipython",
    "version": 3
   },
   "file_extension": ".py",
   "mimetype": "text/x-python",
   "name": "python",
   "nbconvert_exporter": "python",
   "pygments_lexer": "ipython3",
   "version": "3.13.0"
  }
 },
 "nbformat": 4,
 "nbformat_minor": 2
}
