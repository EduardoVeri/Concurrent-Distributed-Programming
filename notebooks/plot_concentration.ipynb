{
 "cells": [
  {
   "cell_type": "code",
   "execution_count": null,
   "metadata": {},
   "outputs": [],
   "source": [
    "import matplotlib.pyplot as plt\n",
    "import seaborn as sns\n",
    "from diffusion import (\n",
    "    CUDADiffusionEquation,\n",
    ")"
   ]
  },
  {
   "cell_type": "code",
   "execution_count": null,
   "metadata": {},
   "outputs": [],
   "source": [
    "N = 50\n",
    "D = 0.1\n",
    "dt = 0.01\n",
    "dx = 1.0\n",
    "library = \"../build/libDiffusionEquation.so\"\n",
    "initial_concentration = {\n",
    "    (N // 2, N // 2): 1.0,\n",
    "}"
   ]
  },
  {
   "cell_type": "code",
   "execution_count": null,
   "metadata": {},
   "outputs": [],
   "source": [
    "with CUDADiffusionEquation(\n",
    "    library_path=library,\n",
    "    initial_concentration_points=initial_concentration,\n",
    "    N=N,\n",
    "    D=D,\n",
    "    DELTA_T=dt,\n",
    "    DELTA_X=dx,\n",
    ") as cuda:\n",
    "\n",
    "    values_at_center = []\n",
    "    values_close_to_center_1 = []\n",
    "    values_close_to_center_2 = []\n",
    "\n",
    "    for _ in range(3000):\n",
    "        diff = cuda.step()\n",
    "        cuda.get_result()\n",
    "\n",
    "        values_at_center.append(cuda.concentration_matrix[N // 2, N // 2])\n",
    "        values_close_to_center_1.append(cuda.concentration_matrix[N // 2 + 1, N // 2])\n",
    "        values_close_to_center_2.append(\n",
    "            cuda.concentration_matrix[N // 2 + 1, N // 2 + 1]\n",
    "        )\n",
    "\n",
    "plt.plot(values_at_center, label=\"Centro\")\n",
    "plt.plot(values_close_to_center_1, label=\"Uma casa à direita do centro\")\n",
    "plt.plot(values_close_to_center_2, label=\"Uma casa na diagonal do centro\")\n",
    "plt.xlabel(\"Iterações\")\n",
    "plt.ylabel(\"Concentração\")\n",
    "plt.title(\"Concentração ao longo do tempo\")\n",
    "plt.legend()\n",
    "plt.show()"
   ]
  }
 ],
 "metadata": {
  "kernelspec": {
   "display_name": "Python 3",
   "language": "python",
   "name": "python3"
  },
  "language_info": {
   "codemirror_mode": {
    "name": "ipython",
    "version": 3
   },
   "file_extension": ".py",
   "mimetype": "text/x-python",
   "name": "python",
   "nbconvert_exporter": "python",
   "pygments_lexer": "ipython3",
   "version": "3.12.7"
  }
 },
 "nbformat": 4,
 "nbformat_minor": 2
}
