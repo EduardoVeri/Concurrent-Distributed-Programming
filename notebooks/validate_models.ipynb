{
 "cells": [
  {
   "cell_type": "code",
   "execution_count": null,
   "metadata": {},
   "outputs": [],
   "source": [
    "from diffusion import DiffusionEquation\n",
    "import math\n",
    "import numpy as np"
   ]
  },
  {
   "cell_type": "markdown",
   "metadata": {},
   "source": [
    "### Simulation Parameters"
   ]
  },
  {
   "cell_type": "code",
   "execution_count": null,
   "metadata": {},
   "outputs": [],
   "source": [
    "# Parameters\n",
    "library = \"../build/libDiffusionEquation.so\"\n",
    "N = 2000\n",
    "D = 0.1\n",
    "dt = 0.01\n",
    "dx = 1.0"
   ]
  },
  {
   "cell_type": "code",
   "execution_count": null,
   "metadata": {},
   "outputs": [],
   "source": [
    "def create_models():\n",
    "    # Initial concentration\n",
    "    center = N // 2\n",
    "    initial_concentration = {(center, center): 1.0}\n",
    "\n",
    "\n",
    "    # Create the Sequential Diffusion Equation\n",
    "    sequential = DiffusionEquation(\n",
    "        library,\n",
    "        initial_concentration_points=initial_concentration,\n",
    "        N=N,\n",
    "        D=D,\n",
    "        DELTA_T=dt,\n",
    "        DELTA_X=dx,\n",
    "    )\n",
    "\n",
    "    # Create the Parallel Diffusion Equation\n",
    "    parallel = DiffusionEquation(\n",
    "        library,\n",
    "        initial_concentration_points=initial_concentration,\n",
    "        N=N,\n",
    "        D=D,\n",
    "        DELTA_T=dt,\n",
    "        DELTA_X=dx,\n",
    "    )\n",
    "    \n",
    "    return sequential, parallel"
   ]
  },
  {
   "cell_type": "markdown",
   "metadata": {},
   "source": [
    "### Verify if the results are the same as the expected results in project description"
   ]
  },
  {
   "cell_type": "code",
   "execution_count": null,
   "metadata": {},
   "outputs": [],
   "source": [
    "sequential, parallel = create_models()\n",
    "for i in range(500):\n",
    "    seq_diff = sequential.sequential_step()\n",
    "    omp_diff = parallel.omp_step()\n",
    "\n",
    "    if i % 100 == 0:\n",
    "        print(f\"{i}: Sequential: {seq_diff} -- OMP: {omp_diff}\")\n",
    "\n",
    "conc_center_seq = sequential.concentration_matrix[N // 2, N // 2]\n",
    "conc_center_omp = parallel.concentration_matrix[N // 2, N // 2]\n",
    "print(f\"Concentration at center: {conc_center_seq} -- {conc_center_omp}\")"
   ]
  },
  {
   "cell_type": "markdown",
   "metadata": {},
   "source": [
    "### Verify if the Sequential and OMP solutions are the same"
   ]
  },
  {
   "cell_type": "code",
   "execution_count": null,
   "metadata": {},
   "outputs": [],
   "source": [
    "error = False\n",
    "sequential, parallel = create_models()\n",
    "for i in range(500):\n",
    "    seq_diff = sequential.sequential_step()\n",
    "    omp_diff = parallel.omp_step()\n",
    "    \n",
    "    if i % 100 == 0:\n",
    "        print(f\"Iteration {i}: OMP: {omp_diff}, Sequential: {seq_diff}\")\n",
    "        \n",
    "\n",
    "    if not math.isclose(seq_diff, omp_diff):\n",
    "        print(f\"Error in iteration {i}: OMP and Sequential results are different\")\n",
    "        print(f\"OMP: {omp_diff}, Sequential: {seq_diff}\")\n",
    "        error = True\n",
    "        \n",
    "    if np.any(parallel.concentration_matrix != sequential.concentration_matrix):\n",
    "        print(f\"Error in iteration {i}: OMP and Sequential matrix are different\")\n",
    "        error = True\n",
    "\n",
    "print(\"All iterations completed successfully\")\n",
    "if not error:\n",
    "    print(\"No errors found\")"
   ]
  },
  {
   "cell_type": "code",
   "execution_count": null,
   "metadata": {},
   "outputs": [],
   "source": [
    "def carregar_matriz(nome_arquivo):\n",
    "    try:\n",
    "        return np.loadtxt(nome_arquivo)\n",
    "    except Exception as e:\n",
    "        print(f\"Erro ao carregar o arquivo {nome_arquivo}: {e}\")\n",
    "        return None\n",
    "\n",
    "def comparar_matrizes(matriz1, matriz2):\n",
    "    if matriz1.shape != matriz2.shape:\n",
    "        print(\"As matrizes têm tamanhos diferentes e não podem ser comparadas.\")\n",
    "        return\n",
    "\n",
    "    iguais = np.sum(matriz1 == matriz2)\n",
    "    total = matriz1.size\n",
    "    porcentagem_iguais = (iguais / total) * 100\n",
    "\n",
    "    print(f\"Porcentagem de valores iguais: {porcentagem_iguais:.2f}%\")\n",
    "    print(f\"Total de elementos: {total}, Iguais: {iguais}, Diferentes: {total - iguais}\")\n",
    "\n",
    "if __name__ == \"__main__\":\n",
    "    matriz_sequential = carregar_matriz(\"matriz_sequential.txt\")\n",
    "    matriz_omp = carregar_matriz(\"matriz_omp.txt\")\n",
    "\n",
    "    if matriz_sequential is not None and matriz_omp is not None:\n",
    "        comparar_matrizes(matriz_sequential, matriz_omp)"
   ]
  }
 ],
 "metadata": {
  "kernelspec": {
   "display_name": "Python 3",
   "language": "python",
   "name": "python3"
  },
  "language_info": {
   "codemirror_mode": {
    "name": "ipython",
    "version": 3
   },
   "file_extension": ".py",
   "mimetype": "text/x-python",
   "name": "python",
   "nbconvert_exporter": "python",
   "pygments_lexer": "ipython3",
   "version": "3.12.7"
  }
 },
 "nbformat": 4,
 "nbformat_minor": 2
}
