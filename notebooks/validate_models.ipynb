{
 "cells": [
  {
   "cell_type": "code",
   "execution_count": 6,
   "metadata": {},
   "outputs": [],
   "source": [
    "from diffusion import SequentialDiffusionEquation, OMPdiffusionEquation, CUDADiffusionEquation\n",
    "import math\n",
    "import numpy as np"
   ]
  },
  {
   "cell_type": "markdown",
   "metadata": {},
   "source": [
    "### Simulation Parameters"
   ]
  },
  {
   "cell_type": "code",
   "execution_count": 7,
   "metadata": {},
   "outputs": [],
   "source": [
    "# Parameters\n",
    "library = \"../build/libDiffusionEquation.so\"\n",
    "N = 2000\n",
    "D = 0.1\n",
    "dt = 0.01\n",
    "dx = 1.0"
   ]
  },
  {
   "cell_type": "code",
   "execution_count": 3,
   "metadata": {},
   "outputs": [
    {
     "name": "stdout",
     "output_type": "stream",
     "text": [
      "Step 0: Average Difference = 2.00400610319519e-09\n",
      "Step 100: Average Difference = 1.2324806778815408e-09\n",
      "Step 200: Average Difference = 7.817943429761211e-10\n",
      "Step 300: Average Difference = 5.115284590805102e-10\n",
      "Step 400: Average Difference = 4.2163164115354466e-10\n"
     ]
    }
   ],
   "source": [
    "solver = CUDADiffusionEquation(\n",
    "    library_path=\"../libcud.diffusion.so\",\n",
    "    N=2000,\n",
    "    D=0.1,\n",
    "    DELTA_T=0.01,\n",
    "    DELTA_X=1.0,\n",
    ")\n",
    "\n",
    "# Perform the computation\n",
    "for t in range(500):\n",
    "    avg_diff = solver.step()\n",
    "    if t % 100 == 0:\n",
    "        print(f\"Step {t}: Average Difference = {avg_diff}\")\n",
    "\n",
    "# Retrieve the result\n",
    "solver.get_result()\n",
    "final_concentration = solver.concentration_matrix\n",
    "\n",
    "# Finalize to free device memory\n",
    "solver.finalize()"
   ]
  },
  {
   "cell_type": "code",
   "execution_count": 8,
   "metadata": {},
   "outputs": [],
   "source": [
    "def create_models():\n",
    "    # Initial concentration\n",
    "    center = N // 2\n",
    "    initial_concentration = {(center, center): 1.0}\n",
    "\n",
    "    # Create the Sequential Diffusion Equation\n",
    "    sequential = SequentialDiffusionEquation(\n",
    "        library,\n",
    "        initial_concentration_points=initial_concentration,\n",
    "        N=N,\n",
    "        D=D,\n",
    "        DELTA_T=dt,\n",
    "        DELTA_X=dx,\n",
    "    )\n",
    "\n",
    "    # Create the Parallel Diffusion Equation\n",
    "    omp = OMPdiffusionEquation(\n",
    "        library,\n",
    "        initial_concentration_points=initial_concentration,\n",
    "        N=N,\n",
    "        D=D,\n",
    "        DELTA_T=dt,\n",
    "        DELTA_X=dx,\n",
    "    )\n",
    "    \n",
    "    cuda = CUDADiffusionEquation(\n",
    "        library_path=\"../libcud.diffusion.so\",\n",
    "        N=N,\n",
    "        D=D,\n",
    "        DELTA_T=dt,\n",
    "        DELTA_X=dx,\n",
    "    )\n",
    "\n",
    "    return sequential, omp, cuda"
   ]
  },
  {
   "cell_type": "markdown",
   "metadata": {},
   "source": [
    "### Verify if the results are the same as the expected results in project description"
   ]
  },
  {
   "cell_type": "code",
   "execution_count": 9,
   "metadata": {},
   "outputs": [
    {
     "name": "stdout",
     "output_type": "stream",
     "text": [
      "0: Sequential: 2.004006008010013e-09 -- OMP: 2.004006008010013e-09 -- CUDA: 2.00400610319519e-09\n",
      "100: Sequential: 1.2324806785661765e-09 -- OMP: 1.2324806785661763e-09 -- CUDA: 1.2324806778815408e-09\n",
      "200: Sequential: 7.817943347345305e-10 -- OMP: 7.817943347345306e-10 -- CUDA: 7.817943429761211e-10\n",
      "300: Sequential: 5.115284509398786e-10 -- OMP: 5.115284509398781e-10 -- CUDA: 5.115284590805102e-10\n",
      "400: Sequential: 4.216316312010041e-10 -- OMP: 4.2163163120100405e-10 -- CUDA: 4.2163164115354466e-10\n",
      "Concentration at center: 0.21651223169500305 -- 0.21651223169500305 -- 0.21651223169500305\n"
     ]
    }
   ],
   "source": [
    "sequential, omp, cuda = create_models()\n",
    "for i in range(500):\n",
    "    seq_diff = sequential.step()\n",
    "    omp_diff = omp.step()\n",
    "    cuda_diff = cuda.step()\n",
    "\n",
    "    if i % 100 == 0:\n",
    "        print(f\"{i}: Sequential: {seq_diff} -- OMP: {omp_diff} -- CUDA: {cuda_diff}\")\n",
    "\n",
    "cuda.get_result()\n",
    "conc_center_seq = sequential.concentration_matrix[N // 2, N // 2]\n",
    "conc_center_omp = omp.concentration_matrix[N // 2, N // 2]\n",
    "conc_center_cuda = cuda.concentration_matrix[N // 2, N // 2]\n",
    "print(f\"Concentration at center: {conc_center_seq} -- {conc_center_omp} -- {conc_center_cuda}\")\n",
    "\n",
    "cuda.finalize()"
   ]
  },
  {
   "cell_type": "markdown",
   "metadata": {},
   "source": [
    "### Verify if the Sequential and OMP solutions are the same"
   ]
  },
  {
   "cell_type": "code",
   "execution_count": 6,
   "metadata": {},
   "outputs": [
    {
     "ename": "ValueError",
     "evalue": "too many values to unpack (expected 2)",
     "output_type": "error",
     "traceback": [
      "\u001b[0;31m---------------------------------------------------------------------------\u001b[0m",
      "\u001b[0;31mValueError\u001b[0m                                Traceback (most recent call last)",
      "Cell \u001b[0;32mIn[6], line 2\u001b[0m\n\u001b[1;32m      1\u001b[0m error \u001b[38;5;241m=\u001b[39m \u001b[38;5;28;01mFalse\u001b[39;00m\n\u001b[0;32m----> 2\u001b[0m sequential, parallel \u001b[38;5;241m=\u001b[39m create_models()\n\u001b[1;32m      3\u001b[0m \u001b[38;5;28;01mfor\u001b[39;00m i \u001b[38;5;129;01min\u001b[39;00m \u001b[38;5;28mrange\u001b[39m(\u001b[38;5;241m500\u001b[39m):\n\u001b[1;32m      4\u001b[0m     seq_diff \u001b[38;5;241m=\u001b[39m sequential\u001b[38;5;241m.\u001b[39mstep()\n",
      "\u001b[0;31mValueError\u001b[0m: too many values to unpack (expected 2)"
     ]
    }
   ],
   "source": [
    "error = False\n",
    "sequential, parallel = create_models()\n",
    "for i in range(500):\n",
    "    seq_diff = sequential.step()\n",
    "    omp_diff = parallel.step()\n",
    "\n",
    "    if i % 100 == 0:\n",
    "        print(f\"Iteration {i}: OMP: {omp_diff}, Sequential: {seq_diff}\")\n",
    "\n",
    "    if not math.isclose(seq_diff, omp_diff):\n",
    "        print(f\"Error in iteration {i}: OMP and Sequential results are different\")\n",
    "        print(f\"OMP: {omp_diff}, Sequential: {seq_diff}\")\n",
    "        error = True\n",
    "\n",
    "    if np.any(parallel.concentration_matrix != sequential.concentration_matrix):\n",
    "        print(f\"Error in iteration {i}: OMP and Sequential matrix are different\")\n",
    "        error = True\n",
    "\n",
    "print(\"All iterations completed successfully\")\n",
    "if not error:\n",
    "    print(\"No errors found\")"
   ]
  },
  {
   "cell_type": "code",
   "execution_count": null,
   "metadata": {},
   "outputs": [],
   "source": [
    "def carregar_matriz(nome_arquivo):\n",
    "    try:\n",
    "        return np.loadtxt(nome_arquivo)\n",
    "    except Exception as e:\n",
    "        print(f\"Erro ao carregar o arquivo {nome_arquivo}: {e}\")\n",
    "        return None\n",
    "\n",
    "\n",
    "def comparar_matrizes(matriz1, matriz2):\n",
    "    if matriz1.shape != matriz2.shape:\n",
    "        print(\"As matrizes têm tamanhos diferentes e não podem ser comparadas.\")\n",
    "        return\n",
    "\n",
    "    iguais = np.sum(matriz1 == matriz2)\n",
    "    total = matriz1.size\n",
    "    porcentagem_iguais = (iguais / total) * 100\n",
    "\n",
    "    print(f\"Porcentagem de valores iguais: {porcentagem_iguais:.2f}%\")\n",
    "    print(\n",
    "        f\"Total de elementos: {total}, Iguais: {iguais}, Diferentes: {total - iguais}\"\n",
    "    )\n",
    "\n",
    "\n",
    "if __name__ == \"__main__\":\n",
    "    matriz_sequential = carregar_matriz(\"matriz_sequential.txt\")\n",
    "    matriz_omp = carregar_matriz(\"matriz_omp.txt\")\n",
    "\n",
    "    if matriz_sequential is not None and matriz_omp is not None:\n",
    "        comparar_matrizes(matriz_sequential, matriz_omp)"
   ]
  }
 ],
 "metadata": {
  "kernelspec": {
   "display_name": "Python 3",
   "language": "python",
   "name": "python3"
  },
  "language_info": {
   "codemirror_mode": {
    "name": "ipython",
    "version": 3
   },
   "file_extension": ".py",
   "mimetype": "text/x-python",
   "name": "python",
   "nbconvert_exporter": "python",
   "pygments_lexer": "ipython3",
   "version": "3.12.7"
  }
 },
 "nbformat": 4,
 "nbformat_minor": 2
}
