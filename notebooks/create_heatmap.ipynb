{
 "cells": [
  {
   "cell_type": "code",
   "execution_count": 1,
   "metadata": {},
   "outputs": [],
   "source": [
    "from diffusion import DiffusionEquation\n",
    "import seaborn as sns\n",
    "import matplotlib.pyplot as plt\n",
    "from glob import glob\n",
    "import os\n",
    "import imageio.v2 as imageio"
   ]
  },
  {
   "cell_type": "markdown",
   "metadata": {},
   "source": [
    "### Create Gif"
   ]
  },
  {
   "cell_type": "code",
   "execution_count": 2,
   "metadata": {},
   "outputs": [],
   "source": [
    "def create_gif(folder, gif_name, fps=10):\n",
    "    filenames = glob(os.path.join(folder, \"*.png\"))\n",
    "    filenames.sort()\n",
    "    images = []\n",
    "    for filename in filenames:\n",
    "        images.append(imageio.imread(filename))\n",
    "    imageio.mimsave(f\"../data/gifs/{gif_name}.gif\", images, loop=0, fps=fps)"
   ]
  },
  {
   "cell_type": "markdown",
   "metadata": {},
   "source": [
    "### Create a gif from the images generated from the Heatmap"
   ]
  },
  {
   "cell_type": "code",
   "execution_count": null,
   "metadata": {},
   "outputs": [],
   "source": [
    "def simulate_and_create_heat_map(\n",
    "    folder: str,\n",
    "    gif_name: str,\n",
    "    simulation: DiffusionEquation,\n",
    "    steps: int,\n",
    "    save_every: int,\n",
    "    fps: int = 10,\n",
    "):\n",
    "\n",
    "    # Create figs folder\n",
    "    os.makedirs(folder, exist_ok=True)\n",
    "\n",
    "    # remove all files inside the folder\n",
    "    for f in glob(os.path.join(folder, \"step*.png\")):\n",
    "        os.remove(f)\n",
    "\n",
    "    for i in range(steps):\n",
    "        if i % save_every == 0:\n",
    "            result = simulation.concentration_matrix\n",
    "\n",
    "            ax = sns.heatmap(\n",
    "                result,\n",
    "                vmin=0,\n",
    "                vmax=1.0,\n",
    "                # cmap=\"Blues\",\n",
    "                fmt=\"\",\n",
    "                yticklabels=False,\n",
    "                xticklabels=False,\n",
    "            )\n",
    "\n",
    "            ax.tick_params(left=False, bottom=False)\n",
    "            plt.savefig(os.path.join(folder, f\"step_{i:05d}.png\"), dpi=300)\n",
    "            plt.close()\n",
    "\n",
    "        simulation.omp_step()\n",
    "\n",
    "    create_gif(folder, gif_name, fps)"
   ]
  },
  {
   "cell_type": "markdown",
   "metadata": {},
   "source": [
    "### Simulation with a square shaped initial concentration of 1.0 in the center of the domain"
   ]
  },
  {
   "cell_type": "code",
   "execution_count": null,
   "metadata": {},
   "outputs": [],
   "source": [
    "simulation = DiffusionEquation(\"../build/libDiffusionEquation.so\", N=50)\n",
    "\n",
    "# Create a big concentration square in the middle of the matrix\n",
    "center = simulation.N // 2\n",
    "for i in range(-3, 4):\n",
    "    for j in range(-3, 4):\n",
    "        simulation.set_initial_concentration({(center + i, center + j): 1.0})\n",
    "\n",
    "\n",
    "simulate_and_create_heat_map(\n",
    "    folder=\"../data/figs/heatmap_center\",\n",
    "    gif_name=\"simulation_center\",\n",
    "    steps=25000,\n",
    "    save_every=250,\n",
    "    simulation=simulation,\n",
    "    fps=10,\n",
    ")"
   ]
  },
  {
   "cell_type": "markdown",
   "metadata": {},
   "source": [
    "### Simulation with a X shaped initial concentration of 1.0"
   ]
  },
  {
   "cell_type": "code",
   "execution_count": 7,
   "metadata": {},
   "outputs": [],
   "source": [
    "simulation = DiffusionEquation(\"../build/libDiffusionEquation.so\", N=50)\n",
    "\n",
    "# Create a X shape inside the matrix\n",
    "for i in range(1, simulation.N - 1):\n",
    "    N = simulation.N - 1\n",
    "    simulation.set_initial_concentration({(i, i): 1.0})\n",
    "    simulation.set_initial_concentration({(i, N - i): 1.0})\n",
    "    simulation.set_initial_concentration({(N - i, N - i): 1.0})\n",
    "    simulation.set_initial_concentration({(i, N - i): 1.0})\n",
    "\n",
    "center = simulation.N // 2\n",
    "for i in range(-3, 3):\n",
    "    for j in range(-3, 3):\n",
    "        simulation.set_initial_concentration({(center + i, center + j): 1.0})\n",
    "\n",
    "simulate_and_create_heat_map(\n",
    "    folder=\"../data/figs_heatmap/heatmap_X\",\n",
    "    gif_name=\"simulation_X\",\n",
    "    steps=7000,\n",
    "    save_every=25,\n",
    "    simulation=simulation,\n",
    "    fps=30,\n",
    ")"
   ]
  },
  {
   "cell_type": "markdown",
   "metadata": {},
   "source": [
    "### Simulation with circle with a concentration of 1.0"
   ]
  },
  {
   "cell_type": "code",
   "execution_count": 4,
   "metadata": {},
   "outputs": [],
   "source": [
    "# Create a circle of contaminant\n",
    "center = 50 // 2\n",
    "radius = 50 // 4  # Adjust the radius as needed\n",
    "contaminant = {\n",
    "    (i, j): 1.0\n",
    "    for i in range(50)\n",
    "    for j in range(50)\n",
    "    if abs((((i - center) ** 2 + (j - center) ** 2) ** 0.5) - radius) < 0.5\n",
    "}\n",
    "simulation = DiffusionEquation(\n",
    "    \"../build/libDiffusionEquation.so\", N=50, initial_concentration_points=contaminant\n",
    ")\n",
    "\n",
    "\n",
    "simulate_and_create_heat_map(\n",
    "    folder=\"../data/figs_heatmap/heatmap_circle\",\n",
    "    gif_name=\"simulation_circle\",\n",
    "    steps=7000,\n",
    "    save_every=25,\n",
    "    simulation=simulation,\n",
    "    fps=30,\n",
    ")"
   ]
  }
 ],
 "metadata": {
  "kernelspec": {
   "display_name": "Python 3",
   "language": "python",
   "name": "python3"
  },
  "language_info": {
   "codemirror_mode": {
    "name": "ipython",
    "version": 3
   },
   "file_extension": ".py",
   "mimetype": "text/x-python",
   "name": "python",
   "nbconvert_exporter": "python",
   "pygments_lexer": "ipython3",
   "version": "3.13.0"
  }
 },
 "nbformat": 4,
 "nbformat_minor": 2
}
