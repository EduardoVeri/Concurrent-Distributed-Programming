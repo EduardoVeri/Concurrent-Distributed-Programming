{
 "cells": [
  {
   "cell_type": "markdown",
   "metadata": {},
   "source": [
    "### Importing necessary modules\n"
   ]
  },
  {
   "cell_type": "code",
   "execution_count": 1,
   "metadata": {},
   "outputs": [],
   "source": [
    "import time\n",
    "import matplotlib.pyplot as plt\n",
    "from diffusion import (\n",
    "    SequentialDiffusionEquation,\n",
    "    OMPdiffusionEquation,\n",
    "    CUDADiffusionEquation,\n",
    "    BaseDiffusionEquation,\n",
    ")\n",
    "import pandas as pd\n",
    "import numpy as np"
   ]
  },
  {
   "cell_type": "markdown",
   "metadata": {},
   "source": [
    "### Utils Methods\n"
   ]
  },
  {
   "cell_type": "code",
   "execution_count": 2,
   "metadata": {},
   "outputs": [],
   "source": [
    "def standard_deviation(arr: list) -> float:\n",
    "    mean = sum(arr) / len(arr)\n",
    "    return (sum((x - mean) ** 2 for x in arr) / len(arr)) ** 0.5"
   ]
  },
  {
   "cell_type": "code",
   "execution_count": 3,
   "metadata": {},
   "outputs": [],
   "source": [
    "def measure_execution_time(\n",
    "    Solver: BaseDiffusionEquation,\n",
    "    N: int,\n",
    "    total_eval: int,\n",
    "    steps: int,\n",
    "    n_threads: int = None,\n",
    ") -> list:\n",
    "    time_list = []\n",
    "    for _ in range(total_eval):\n",
    "        with Solver(\"../build/libDiffusionEquation.so\", N=N) as solver:\n",
    "            if n_threads:\n",
    "                solver.set_num_threads(n_threads)\n",
    "\n",
    "            start = time.time()\n",
    "            for _ in range(steps):\n",
    "                solver.step()\n",
    "            end = time.time()\n",
    "\n",
    "            time_list.append(end - start)\n",
    "    return time_list"
   ]
  },
  {
   "cell_type": "markdown",
   "metadata": {},
   "source": [
    "### Measure Execution time of the Different Solutions"
   ]
  },
  {
   "cell_type": "markdown",
   "metadata": {},
   "source": [
    "#### Sequential implementation\n"
   ]
  },
  {
   "cell_type": "code",
   "execution_count": null,
   "metadata": {},
   "outputs": [
    {
     "name": "stdout",
     "output_type": "stream",
     "text": [
      "Time elapsed:  4.542544984817505 +/- 0.4173835707258996\n"
     ]
    }
   ],
   "source": [
    "times = measure_execution_time(SequentialDiffusionEquation, 500, 10, 1000)\n",
    "print(\"Time elapsed: \", sum(times) / len(times), \"+/-\", standard_deviation(times))"
   ]
  },
  {
   "cell_type": "markdown",
   "metadata": {},
   "source": [
    "#### OpenMP implementation\n"
   ]
  },
  {
   "cell_type": "code",
   "execution_count": null,
   "metadata": {},
   "outputs": [
    {
     "name": "stdout",
     "output_type": "stream",
     "text": [
      "Time elapsed:  3.183614659309387 +/- 0.359222767353766\n"
     ]
    }
   ],
   "source": [
    "times = measure_execution_time(OMPdiffusionEquation, 500, 10, 1000)\n",
    "print(\"Time elapsed: \", sum(times) / len(times), \"+/-\", standard_deviation(times))"
   ]
  },
  {
   "cell_type": "markdown",
   "metadata": {},
   "source": [
    "#### CUDA implementation"
   ]
  },
  {
   "cell_type": "code",
   "execution_count": 6,
   "metadata": {},
   "outputs": [
    {
     "name": "stdout",
     "output_type": "stream",
     "text": [
      "Time elapsed:  0.9909062385559082 +/- 0.0481031679515818\n"
     ]
    }
   ],
   "source": [
    "times = measure_execution_time(CUDADiffusionEquation, 500, 10, 1000)\n",
    "print(\"Time elapsed: \", sum(times) / len(times), \"+/-\", standard_deviation(times))"
   ]
  },
  {
   "cell_type": "markdown",
   "metadata": {},
   "source": [
    "### Firsts Results\n"
   ]
  },
  {
   "cell_type": "markdown",
   "metadata": {},
   "source": [
    "Now that we can measure the execution time of both implementations, let's compare them and check if the OpenMP implementation is faster than the Sequential implementation\n"
   ]
  },
  {
   "cell_type": "code",
   "execution_count": 9,
   "metadata": {},
   "outputs": [],
   "source": [
    "# Configs\n",
    "N = 2000\n",
    "total_evaluations = 15\n",
    "total_steps = 500\n",
    "num_threads_omp = [4]"
   ]
  },
  {
   "cell_type": "code",
   "execution_count": null,
   "metadata": {},
   "outputs": [],
   "source": [
    "time_list = []\n",
    "standard_deviation_list = []\n",
    "\n",
    "times = measure_execution_time(SequentialDiffusionEquation, N, total_evaluations, total_steps)\n",
    "time_list.append(sum(times) / len(times))\n",
    "standard_deviation_list.append(standard_deviation(times))\n",
    "\n",
    "for num_threads in num_threads_omp:\n",
    "    times = measure_execution_time(OMPdiffusionEquation, N, total_evaluations, total_steps, num_threads)\n",
    "    time_list.append(sum(times) / len(times))\n",
    "    standard_deviation_list.append(standard_deviation(times))\n",
    "\n",
    "times = measure_execution_time(CUDADiffusionEquation, N, total_evaluations, total_steps)\n",
    "time_list.append(sum(times) / len(times))\n",
    "standard_deviation_list.append(standard_deviation(times))"
   ]
  },
  {
   "cell_type": "code",
   "execution_count": 18,
   "metadata": {},
   "outputs": [
    {
     "name": "stdout",
     "output_type": "stream",
     "text": [
      "       Method   Time (s)  Standard Deviation\n",
      "0  Sequential  27.204012            0.259928\n",
      "1         OMP  13.376458            0.751484\n",
      "2        CUDA   5.245920            0.063942\n"
     ]
    }
   ],
   "source": [
    "sequential_time = time_list[0]\n",
    "omp_time = time_list[1]\n",
    "cuda_time = time_list[2]\n",
    "\n",
    "table = {\n",
    "    \"Method\": [\"Sequential\", \"OMP\", \"CUDA\"],\n",
    "    \"Time (s)\": [sequential_time, omp_time, cuda_time],\n",
    "    \"Standard Deviation\": standard_deviation_list,\n",
    "}\n",
    "\n",
    "df = pd.DataFrame(table)\n",
    "print(df)\n",
    "\n",
    "df.to_csv(\"results.csv\", index=False)"
   ]
  },
  {
   "cell_type": "code",
   "execution_count": null,
   "metadata": {},
   "outputs": [],
   "source": [
    "sequential_time = time_list[0]\n",
    "\n",
    "table = {\n",
    "    \"Num Threads\": [1] + num_threads_omp,\n",
    "    \"Time\": time_list,\n",
    "    \"STD\": standard_deviation_list,\n",
    "    \"Speedup\": [sequential_time / x for x in time_list],\n",
    "    \"Efficiency\": [\n",
    "        sequential_time / x / num_threads\n",
    "        for x, num_threads in zip(time_list, [1] + num_threads_omp)\n",
    "    ],\n",
    "}\n",
    "\n",
    "df = pd.DataFrame(table)\n",
    "print(df)\n",
    "\n",
    "df.to_csv(\"../data/performance/OpenMP.csv\", index=False)"
   ]
  },
  {
   "cell_type": "markdown",
   "metadata": {},
   "source": [
    "#### Plot the results\n"
   ]
  },
  {
   "cell_type": "code",
   "execution_count": null,
   "metadata": {},
   "outputs": [],
   "source": [
    "# plot the results together in a single graph\n",
    "df = pd.read_csv(\"../data/performance/OpenMP.csv\")\n",
    "\n",
    "plt.plot(df[\"Num Threads\"], df[\"Speedup\"], label=\"Speedup\", marker=\"o\")\n",
    "# Add the linear speedup line\n",
    "plt.plot(\n",
    "    df[\"Num Threads\"],\n",
    "    df[\"Num Threads\"],\n",
    "    label=\"Speedup Linear\",\n",
    "    linestyle=\"--\",\n",
    "    marker=\"o\",\n",
    ")\n",
    "\n",
    "# # Add value labels next to each data point\n",
    "# for x, y in zip(df[\"Num Threads\"], df[\"Speedup\"]):\n",
    "#     plt.text(x, y, f'{y:.2f}', fontsize=9, ha='right', va='bottom')\n",
    "\n",
    "plt.ylim(1, df[\"Speedup\"].max() + 0.5)  # Adjust the y-axis limit\n",
    "plt.grid()\n",
    "plt.title(\"Speedup vs Nº Threads\")\n",
    "plt.ylabel(\"Speedup\")\n",
    "plt.xlabel(\"Nº Threads\")\n",
    "plt.legend()\n",
    "plt.show()"
   ]
  },
  {
   "cell_type": "code",
   "execution_count": null,
   "metadata": {},
   "outputs": [],
   "source": [
    "# plot the results together in a single graph\n",
    "df = pd.read_csv(\"../data/performance/OpenMP.csv\")\n",
    "\n",
    "# Plot the efficiency\n",
    "plt.plot(df[\"Num Threads\"], df[\"Efficiency\"], label=\"Eficiência\", marker=\"o\")\n",
    "# Add the linear efficiency line\n",
    "plt.plot(\n",
    "    df[\"Num Threads\"],\n",
    "    [1] * len(df[\"Num Threads\"]),\n",
    "    label=\"Eficiência Linear\",\n",
    "    linestyle=\"--\",\n",
    "    marker=\"o\",\n",
    ")\n",
    "\n",
    "plt.grid()\n",
    "plt.title(\"Eficiência vs Nº Threads\")\n",
    "plt.xlabel(\"Nº Threads\")\n",
    "plt.ylabel(\"Eficiência\")\n",
    "plt.legend()\n",
    "plt.show()"
   ]
  },
  {
   "cell_type": "code",
   "execution_count": null,
   "metadata": {},
   "outputs": [],
   "source": [
    "df = pd.read_csv(\"../data/performance/OpenMP.csv\")\n",
    "\n",
    "# Calculate percentage of linear speedup achieved\n",
    "df[\"Percent of Linear Speedup\"] = (df[\"Speedup\"] / df[\"Num Threads\"]) * 100\n",
    "\n",
    "# Plot the percentage\n",
    "plt.plot(\n",
    "    df[\"Num Threads\"],\n",
    "    df[\"Percent of Linear Speedup\"],\n",
    "    label=\"Percent of Linear Speedup\",\n",
    "    marker=\"o\",\n",
    ")\n",
    "\n",
    "plt.grid()\n",
    "plt.title(\"Percentage of Linear Speedup Achieved vs Number of Threads\")\n",
    "plt.xlabel(\"Number of Threads\")\n",
    "plt.ylabel(\"Percentage of Linear Speedup Achieved (%)\")\n",
    "plt.legend()\n",
    "plt.show()"
   ]
  },
  {
   "cell_type": "code",
   "execution_count": null,
   "metadata": {},
   "outputs": [],
   "source": [
    "df = pd.read_csv(\"../data/performance/OpenMP.csv\")\n",
    "\n",
    "fig, ax1 = plt.subplots()\n",
    "\n",
    "color = \"tab:blue\"\n",
    "ax1.set_xlabel(\"Number of Threads\")\n",
    "ax1.set_ylabel(\"Measured Speedup\", color=color)\n",
    "ax1.plot(\n",
    "    df[\"Num Threads\"], df[\"Speedup\"], label=\"Measured Speedup\", color=color, marker=\"o\"\n",
    ")\n",
    "ax1.tick_params(axis=\"y\", labelcolor=color)\n",
    "\n",
    "ax2 = ax1.twinx()  # Instantiate a second axes sharing the same x-axis\n",
    "\n",
    "color = \"tab:red\"\n",
    "ax2.set_ylabel(\"Linear Speedup\", color=color)\n",
    "ax2.plot(\n",
    "    df[\"Num Threads\"],\n",
    "    df[\"Num Threads\"],\n",
    "    label=\"Linear Speedup\",\n",
    "    linestyle=\"--\",\n",
    "    color=color,\n",
    ")\n",
    "ax2.tick_params(axis=\"y\", labelcolor=color)\n",
    "\n",
    "# Combined legend\n",
    "lines_labels = [ax.get_legend_handles_labels() for ax in [ax1, ax2]]\n",
    "lines, labels = [sum(lol, []) for lol in zip(*lines_labels)]\n",
    "fig.legend(lines, labels, loc=\"upper left\")\n",
    "\n",
    "plt.title(\"Speedup vs Number of Threads\")\n",
    "plt.grid()\n",
    "plt.show()"
   ]
  }
 ],
 "metadata": {
  "kernelspec": {
   "display_name": "Python 3",
   "language": "python",
   "name": "python3"
  },
  "language_info": {
   "codemirror_mode": {
    "name": "ipython",
    "version": 3
   },
   "file_extension": ".py",
   "mimetype": "text/x-python",
   "name": "python",
   "nbconvert_exporter": "python",
   "pygments_lexer": "ipython3",
   "version": "3.12.7"
  }
 },
 "nbformat": 4,
 "nbformat_minor": 2
}
