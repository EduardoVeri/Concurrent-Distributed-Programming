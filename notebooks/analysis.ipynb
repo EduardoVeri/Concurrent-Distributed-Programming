{
 "cells": [
  {
   "cell_type": "markdown",
   "metadata": {},
   "source": [
    "### Importing necessary modules"
   ]
  },
  {
   "cell_type": "code",
   "execution_count": 7,
   "metadata": {},
   "outputs": [],
   "source": [
    "import sys\n",
    "import time\n",
    "\n",
    "# Add the path to the DiffusionEquation module\n",
    "sys.path.append(\"../DiffusionEquation\")\n",
    "from DiffusionEquation import DiffusionEquation"
   ]
  },
  {
   "cell_type": "markdown",
   "metadata": {},
   "source": [
    "### Utils Methods"
   ]
  },
  {
   "cell_type": "code",
   "execution_count": 8,
   "metadata": {},
   "outputs": [],
   "source": [
    "def standard_deviation(arr: list) -> float:\n",
    "    mean = sum(arr) / len(arr)\n",
    "    return (sum((x - mean) ** 2 for x in arr) / len(arr)) ** 0.5"
   ]
  },
  {
   "cell_type": "code",
   "execution_count": 9,
   "metadata": {},
   "outputs": [],
   "source": [
    "def measure_execution_time(func: callable, n: int) -> list:\n",
    "    times = []\n",
    "    for _ in range(n):    \n",
    "        start = time.time()\n",
    "        func()\n",
    "        end = time.time()\n",
    "        times.append(end - start)\n",
    "    return times"
   ]
  },
  {
   "cell_type": "markdown",
   "metadata": {},
   "source": [
    "### Measuring execution time for the Sequential implementation"
   ]
  },
  {
   "cell_type": "code",
   "execution_count": 10,
   "metadata": {},
   "outputs": [
    {
     "name": "stdout",
     "output_type": "stream",
     "text": [
      "Final concentration in the center: 0.09504543216256052\n",
      "Time elapsed:  0.12023736095428467 +/- 0.01779592066829217\n"
     ]
    }
   ],
   "source": [
    "sequential = DiffusionEquation(\"../build/libDiffusionEquation.so\", N=3000)\n",
    "times = measure_execution_time(sequential.sequential_step, 1000)\n",
    "print(\"Final concentration in the center:\", sequential.concentration_matrix[sequential.N // 2][sequential.N // 2])\n",
    "print(\"Time elapsed: \", sum(times) / len(times), \"+/-\", standard_deviation(times))"
   ]
  },
  {
   "cell_type": "markdown",
   "metadata": {},
   "source": [
    "### Measuring execution time for the OpenMP implementation"
   ]
  },
  {
   "cell_type": "code",
   "execution_count": 11,
   "metadata": {},
   "outputs": [
    {
     "name": "stdout",
     "output_type": "stream",
     "text": [
      "Final concentration in the center: 0.09504543216256052\n",
      "Time elapsed:  0.07477210974693298 +/- 0.01392304149785999\n"
     ]
    }
   ],
   "source": [
    "omp = DiffusionEquation(\"../build/libDiffusionEquation.so\", N=3000)\n",
    "times = measure_execution_time(omp.omp_step, 1000)\n",
    "print(\"Final concentration in the center:\", omp.concentration_matrix[omp.N // 2][omp.N // 2])\n",
    "print(\"Time elapsed: \", sum(times) / len(times), \"+/-\", standard_deviation(times))"
   ]
  }
 ],
 "metadata": {
  "kernelspec": {
   "display_name": "Python 3",
   "language": "python",
   "name": "python3"
  },
  "language_info": {
   "codemirror_mode": {
    "name": "ipython",
    "version": 3
   },
   "file_extension": ".py",
   "mimetype": "text/x-python",
   "name": "python",
   "nbconvert_exporter": "python",
   "pygments_lexer": "ipython3",
   "version": "3.12.7"
  }
 },
 "nbformat": 4,
 "nbformat_minor": 2
}
