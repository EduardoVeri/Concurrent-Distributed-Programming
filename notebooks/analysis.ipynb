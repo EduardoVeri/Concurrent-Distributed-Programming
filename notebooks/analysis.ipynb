{
 "cells": [
  {
   "cell_type": "markdown",
   "metadata": {},
   "source": [
    "### Importing necessary modules"
   ]
  },
  {
   "cell_type": "code",
   "execution_count": null,
   "metadata": {},
   "outputs": [],
   "source": [
    "import time\n",
    "import matplotlib.pyplot as plt\n",
    "from diffusion import DiffusionEquation"
   ]
  },
  {
   "cell_type": "markdown",
   "metadata": {},
   "source": [
    "### Utils Methods"
   ]
  },
  {
   "cell_type": "code",
   "execution_count": null,
   "metadata": {},
   "outputs": [],
   "source": [
    "def standard_deviation(arr: list) -> float:\n",
    "    mean = sum(arr) / len(arr)\n",
    "    return (sum((x - mean) ** 2 for x in arr) / len(arr)) ** 0.5"
   ]
  },
  {
   "cell_type": "code",
   "execution_count": null,
   "metadata": {},
   "outputs": [],
   "source": [
    "def measure_execution_time(func: callable, n: int) -> list:\n",
    "    times = []\n",
    "    for _ in range(n):\n",
    "        start = time.time()\n",
    "        func()\n",
    "        end = time.time()\n",
    "        times.append(end - start)\n",
    "    return times"
   ]
  },
  {
   "cell_type": "markdown",
   "metadata": {},
   "source": [
    "### Measuring execution time for the Sequential implementation"
   ]
  },
  {
   "cell_type": "code",
   "execution_count": null,
   "metadata": {},
   "outputs": [],
   "source": [
    "sequential = DiffusionEquation(\"../build/libDiffusionEquation.so\", N=500)\n",
    "times = measure_execution_time(sequential.sequential_step, 10000)\n",
    "print(\n",
    "    \"Final concentration in the center:\",\n",
    "    sequential.concentration_matrix[sequential.N // 2][sequential.N // 2],\n",
    ")\n",
    "print(\"Time elapsed: \", sum(times) / len(times), \"+/-\", standard_deviation(times))"
   ]
  },
  {
   "cell_type": "markdown",
   "metadata": {},
   "source": [
    "### Measuring execution time for the OpenMP implementation"
   ]
  },
  {
   "cell_type": "code",
   "execution_count": null,
   "metadata": {},
   "outputs": [],
   "source": [
    "omp = DiffusionEquation(\"../build/libDiffusionEquation.so\", N=500)\n",
    "times = measure_execution_time(omp.omp_step, 10000)\n",
    "print(\n",
    "    \"Final concentration in the center:\",\n",
    "    omp.concentration_matrix[omp.N // 2][omp.N // 2],\n",
    ")\n",
    "print(\"Time elapsed: \", sum(times) / len(times), \"+/-\", standard_deviation(times))"
   ]
  },
  {
   "cell_type": "markdown",
   "metadata": {},
   "source": [
    "### Firsts Results "
   ]
  },
  {
   "cell_type": "markdown",
   "metadata": {},
   "source": [
    "Now that we can measure the execution time of both implementations, let's compare them and check if the OpenMP implementation is faster than the Sequential implementation\n",
    "\n",
    "We will execute both codes with N increasing from 100 to 1000 with a step of 100 and plot the results. Every test will be executed 10000 times to get a more accurate average time and standard deviation."
   ]
  },
  {
   "cell_type": "code",
   "execution_count": null,
   "metadata": {},
   "outputs": [],
   "source": [
    "sequential_values = []\n",
    "for n in range(100, 1001, 100):\n",
    "    sequential = DiffusionEquation(\"../build/libDiffusionEquation.so\", N=n)\n",
    "    times = measure_execution_time(sequential.sequential_step, 10000)\n",
    "    sequential_values.append(sum(times) / len(times))\n",
    "    \n",
    "omp_values = []\n",
    "for n in range(100, 1001, 100):\n",
    "    omp = DiffusionEquation(\"../build/libDiffusionEquation.so\", N=n)\n",
    "    times = measure_execution_time(omp.omp_step, 10000)\n",
    "    omp_values.append(sum(times) / len(times))\n"
   ]
  },
  {
   "cell_type": "code",
   "execution_count": null,
   "metadata": {},
   "outputs": [],
   "source": [
    "# plot the results together in a single graph\n",
    "plt.plot(range(100, 1001, 100), sequential_values, label=\"Sequential\")\n",
    "plt.plot(range(100, 1001, 100), omp_values, label=\"OMP\")\n",
    "plt.xlabel(\"Grid size\")\n",
    "plt.ylabel(\"Time elapsed\")\n",
    "plt.legend()\n",
    "plt.show()"
   ]
  }
 ],
 "metadata": {
  "kernelspec": {
   "display_name": "Python 3",
   "language": "python",
   "name": "python3"
  },
  "language_info": {
   "codemirror_mode": {
    "name": "ipython",
    "version": 3
   },
   "file_extension": ".py",
   "mimetype": "text/x-python",
   "name": "python",
   "nbconvert_exporter": "python",
   "pygments_lexer": "ipython3",
   "version": "3.12.7"
  }
 },
 "nbformat": 4,
 "nbformat_minor": 2
}
