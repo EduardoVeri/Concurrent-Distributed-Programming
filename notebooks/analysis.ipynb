{
 "cells": [
  {
   "cell_type": "markdown",
   "metadata": {},
   "source": [
    "### Importing necessary modules\n"
   ]
  },
  {
   "cell_type": "code",
   "execution_count": 1,
   "metadata": {},
   "outputs": [],
   "source": [
    "import time\n",
    "import matplotlib.pyplot as plt\n",
    "from diffusion import (\n",
    "    SequentialDiffusionEquation,\n",
    "    OMPdiffusionEquation,\n",
    "    CUDADiffusionEquation,\n",
    "    BaseDiffusionEquation,\n",
    ")\n",
    "import pandas as pd\n",
    "import numpy as np"
   ]
  },
  {
   "cell_type": "markdown",
   "metadata": {},
   "source": [
    "### Utils Methods\n"
   ]
  },
  {
   "cell_type": "code",
   "execution_count": 2,
   "metadata": {},
   "outputs": [],
   "source": [
    "def standard_deviation(arr: list) -> float:\n",
    "    mean = sum(arr) / len(arr)\n",
    "    return (sum((x - mean) ** 2 for x in arr) / len(arr)) ** 0.5"
   ]
  },
  {
   "cell_type": "code",
   "execution_count": 3,
   "metadata": {},
   "outputs": [],
   "source": [
    "def measure_execution_time(\n",
    "    Solver: BaseDiffusionEquation,\n",
    "    N: int,\n",
    "    total_eval: int,\n",
    "    steps: int,\n",
    "    n_threads: int = None,\n",
    ") -> list:\n",
    "    time_list = []\n",
    "    for _ in range(total_eval):\n",
    "        with Solver(\"../build/libDiffusionEquation.so\", N=N) as solver:\n",
    "            if n_threads:\n",
    "                solver.set_num_threads(n_threads)\n",
    "\n",
    "            start = time.time()\n",
    "            for _ in range(steps):\n",
    "                solver.step()\n",
    "            end = time.time()\n",
    "\n",
    "            time_list.append(end - start)\n",
    "    return time_list"
   ]
  },
  {
   "cell_type": "markdown",
   "metadata": {},
   "source": [
    "### Measure Execution time of the Different Solutions\n"
   ]
  },
  {
   "cell_type": "markdown",
   "metadata": {},
   "source": [
    "#### Sequential implementation\n"
   ]
  },
  {
   "cell_type": "code",
   "execution_count": null,
   "metadata": {},
   "outputs": [],
   "source": [
    "times = measure_execution_time(SequentialDiffusionEquation, 500, 10, 1000)\n",
    "print(\"Time elapsed: \", sum(times) / len(times), \"+/-\", standard_deviation(times))"
   ]
  },
  {
   "cell_type": "markdown",
   "metadata": {},
   "source": [
    "#### OpenMP implementation\n"
   ]
  },
  {
   "cell_type": "code",
   "execution_count": null,
   "metadata": {},
   "outputs": [],
   "source": [
    "times = measure_execution_time(OMPdiffusionEquation, 500, 10, 1000)\n",
    "print(\"Time elapsed: \", sum(times) / len(times), \"+/-\", standard_deviation(times))"
   ]
  },
  {
   "cell_type": "markdown",
   "metadata": {},
   "source": [
    "#### CUDA implementation\n"
   ]
  },
  {
   "cell_type": "code",
   "execution_count": null,
   "metadata": {},
   "outputs": [],
   "source": [
    "times = measure_execution_time(CUDADiffusionEquation, 500, 10, 1000)\n",
    "print(\"Time elapsed: \", sum(times) / len(times), \"+/-\", standard_deviation(times))"
   ]
  },
  {
   "cell_type": "markdown",
   "metadata": {},
   "source": [
    "### Firsts Results\n"
   ]
  },
  {
   "cell_type": "markdown",
   "metadata": {},
   "source": [
    "Now that we can measure the execution time of both implementations, let's compare them and check if the OpenMP implementation is faster than the Sequential implementation\n"
   ]
  },
  {
   "cell_type": "code",
   "execution_count": 5,
   "metadata": {},
   "outputs": [],
   "source": [
    "# Configs\n",
    "N = 2000\n",
    "total_evaluations = 15\n",
    "total_steps = 500\n",
    "num_threads_omp = [2, 4, 8, 16, 32]"
   ]
  },
  {
   "cell_type": "code",
   "execution_count": 6,
   "metadata": {},
   "outputs": [],
   "source": [
    "# Just to make the notebook screen goes off before the execution\n",
    "time.sleep(70)"
   ]
  },
  {
   "cell_type": "code",
   "execution_count": 7,
   "metadata": {},
   "outputs": [],
   "source": [
    "seq_times = measure_execution_time(\n",
    "    SequentialDiffusionEquation, N, total_evaluations, total_steps\n",
    ")\n",
    "seq_time_mean = sum(seq_times) / len(seq_times)\n",
    "seq_std = standard_deviation(seq_times)"
   ]
  },
  {
   "cell_type": "code",
   "execution_count": null,
   "metadata": {},
   "outputs": [],
   "source": [
    "omp_times_list = []\n",
    "omp_std_list = []\n",
    "for num_threads in num_threads_omp:\n",
    "    times = measure_execution_time(\n",
    "        OMPdiffusionEquation, N, total_evaluations, total_steps, num_threads\n",
    "    )\n",
    "    omp_times_list.append(sum(times) / len(times))\n",
    "    omp_std_list.append(standard_deviation(times))"
   ]
  },
  {
   "cell_type": "code",
   "execution_count": 9,
   "metadata": {},
   "outputs": [],
   "source": [
    "cuda_times = measure_execution_time(\n",
    "    CUDADiffusionEquation, N, total_evaluations, total_steps\n",
    ")\n",
    "cuda_time_mean = sum(cuda_times) / len(cuda_times)\n",
    "cuda_std = standard_deviation(cuda_times)"
   ]
  },
  {
   "cell_type": "code",
   "execution_count": null,
   "metadata": {},
   "outputs": [],
   "source": [
    "table = {\n",
    "    \"Num Threads\": [1] + num_threads_omp + [\"CUDA\"],\n",
    "    \"Time\": [seq_time_mean] + omp_times_list + [cuda_time_mean],\n",
    "    \"STD\": [seq_std] + omp_std_list + [cuda_std],\n",
    "    \"Speedup\": [seq_time_mean / x for x in [seq_time_mean] + omp_times_list]\n",
    "    + [seq_time_mean / cuda_time_mean],\n",
    "    \"Efficiency\": [1] + [\n",
    "        seq_time_mean / x / num_threads\n",
    "        for x, num_threads in zip(omp_times_list, num_threads_omp)\n",
    "    ]\n",
    "    + [seq_time_mean / cuda_time_mean / 32],\n",
    "}\n",
    "print(table)\n",
    "df = pd.DataFrame(table)\n",
    "print(df)\n",
    "\n",
    "path_to_save = \"../data/performance/OMP_CUDA.csv\"\n",
    "df.to_csv(path_to_save, index=False)"
   ]
  },
  {
   "cell_type": "markdown",
   "metadata": {},
   "source": [
    "#### Plot the results\n"
   ]
  },
  {
   "cell_type": "code",
   "execution_count": null,
   "metadata": {},
   "outputs": [],
   "source": [
    "# plot the results together in a single graph\n",
    "df = pd.read_csv(path_to_save)\n",
    "\n",
    "plt.plot(df[\"Num Threads\"], df[\"Speedup\"], label=\"Speedup\", marker=\"o\")\n",
    "# Add the linear speedup line\n",
    "plt.plot(\n",
    "    df[\"Num Threads\"],\n",
    "    df[\"Num Threads\"],\n",
    "    label=\"Speedup Linear\",\n",
    "    linestyle=\"--\",\n",
    "    marker=\"o\",\n",
    ")\n",
    "\n",
    "# # Add value labels next to each data point\n",
    "# for x, y in zip(df[\"Num Threads\"], df[\"Speedup\"]):\n",
    "#     plt.text(x, y, f'{y:.2f}', fontsize=9, ha='right', va='bottom')\n",
    "\n",
    "plt.ylim(1, df[\"Speedup\"].max() + 0.5)  # Adjust the y-axis limit\n",
    "plt.grid()\n",
    "plt.title(\"Speedup vs Nº Threads\")\n",
    "plt.ylabel(\"Speedup\")\n",
    "plt.xlabel(\"Nº Threads\")\n",
    "plt.legend()\n",
    "plt.show()"
   ]
  },
  {
   "cell_type": "code",
   "execution_count": null,
   "metadata": {},
   "outputs": [],
   "source": [
    "# plot the results together in a single graph\n",
    "df = pd.read_csv(path_to_save)\n",
    "\n",
    "# Plot the efficiency\n",
    "plt.plot(df[\"Num Threads\"], df[\"Efficiency\"], label=\"Eficiência\", marker=\"o\")\n",
    "# Add the linear efficiency line\n",
    "plt.plot(\n",
    "    df[\"Num Threads\"],\n",
    "    [1] * len(df[\"Num Threads\"]),\n",
    "    label=\"Eficiência Linear\",\n",
    "    linestyle=\"--\",\n",
    "    marker=\"o\",\n",
    ")\n",
    "\n",
    "plt.grid()\n",
    "plt.title(\"Eficiência vs Nº Threads\")\n",
    "plt.xlabel(\"Nº Threads\")\n",
    "plt.ylabel(\"Eficiência\")\n",
    "plt.legend()\n",
    "plt.show()"
   ]
  },
  {
   "cell_type": "code",
   "execution_count": null,
   "metadata": {},
   "outputs": [],
   "source": [
    "df = pd.read_csv(path_to_save)\n",
    "\n",
    "# Calculate percentage of linear speedup achieved\n",
    "df[\"Percent of Linear Speedup\"] = (df[\"Speedup\"] / df[\"Num Threads\"]) * 100\n",
    "\n",
    "# Plot the percentage\n",
    "plt.plot(\n",
    "    df[\"Num Threads\"],\n",
    "    df[\"Percent of Linear Speedup\"],\n",
    "    label=\"Percent of Linear Speedup\",\n",
    "    marker=\"o\",\n",
    ")\n",
    "\n",
    "plt.grid()\n",
    "plt.title(\"Percentage of Linear Speedup Achieved vs Number of Threads\")\n",
    "plt.xlabel(\"Number of Threads\")\n",
    "plt.ylabel(\"Percentage of Linear Speedup Achieved (%)\")\n",
    "plt.legend()\n",
    "plt.show()"
   ]
  },
  {
   "cell_type": "code",
   "execution_count": null,
   "metadata": {},
   "outputs": [],
   "source": [
    "df = pd.read_csv(path_to_save)\n",
    "\n",
    "fig, ax1 = plt.subplots()\n",
    "\n",
    "color = \"tab:blue\"\n",
    "ax1.set_xlabel(\"Number of Threads\")\n",
    "ax1.set_ylabel(\"Measured Speedup\", color=color)\n",
    "ax1.plot(\n",
    "    df[\"Num Threads\"], df[\"Speedup\"], label=\"Measured Speedup\", color=color, marker=\"o\"\n",
    ")\n",
    "ax1.tick_params(axis=\"y\", labelcolor=color)\n",
    "\n",
    "ax2 = ax1.twinx()  # Instantiate a second axes sharing the same x-axis\n",
    "\n",
    "color = \"tab:red\"\n",
    "ax2.set_ylabel(\"Linear Speedup\", color=color)\n",
    "ax2.plot(\n",
    "    df[\"Num Threads\"],\n",
    "    df[\"Num Threads\"],\n",
    "    label=\"Linear Speedup\",\n",
    "    linestyle=\"--\",\n",
    "    color=color,\n",
    ")\n",
    "ax2.tick_params(axis=\"y\", labelcolor=color)\n",
    "\n",
    "# Combined legend\n",
    "lines_labels = [ax.get_legend_handles_labels() for ax in [ax1, ax2]]\n",
    "lines, labels = [sum(lol, []) for lol in zip(*lines_labels)]\n",
    "fig.legend(lines, labels, loc=\"upper left\")\n",
    "\n",
    "plt.title(\"Speedup vs Number of Threads\")\n",
    "plt.grid()\n",
    "plt.show()"
   ]
  }
 ],
 "metadata": {
  "kernelspec": {
   "display_name": "Python 3",
   "language": "python",
   "name": "python3"
  },
  "language_info": {
   "codemirror_mode": {
    "name": "ipython",
    "version": 3
   },
   "file_extension": ".py",
   "mimetype": "text/x-python",
   "name": "python",
   "nbconvert_exporter": "python",
   "pygments_lexer": "ipython3",
   "version": "3.12.7"
  }
 },
 "nbformat": 4,
 "nbformat_minor": 2
}
