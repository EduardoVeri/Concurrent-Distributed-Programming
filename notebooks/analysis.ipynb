{
 "cells": [
  {
   "cell_type": "markdown",
   "metadata": {},
   "source": [
    "### Importing necessary modules\n"
   ]
  },
  {
   "cell_type": "code",
   "execution_count": 1,
   "metadata": {},
   "outputs": [],
   "source": [
    "import time\n",
    "import matplotlib.pyplot as plt\n",
    "import seaborn as sns\n",
    "from diffusion import (\n",
    "    SequentialDiffusionEquation,\n",
    "    OMPdiffusionEquation,\n",
    "    CUDADiffusionEquation,\n",
    "    BaseDiffusionEquation,\n",
    ")\n",
    "import pandas as pd\n",
    "import os\n",
    "from IPython.display import display\n",
    "from glob import glob"
   ]
  },
  {
   "cell_type": "markdown",
   "metadata": {},
   "source": [
    "### Utils Methods\n"
   ]
  },
  {
   "cell_type": "code",
   "execution_count": 17,
   "metadata": {},
   "outputs": [],
   "source": [
    "def standard_deviation(arr: list) -> float:\n",
    "    mean = sum(arr) / len(arr)\n",
    "    return (sum((x - mean) ** 2 for x in arr) / len(arr)) ** 0.5"
   ]
  },
  {
   "cell_type": "code",
   "execution_count": 18,
   "metadata": {},
   "outputs": [],
   "source": [
    "def measure_execution_time(\n",
    "    Solver: BaseDiffusionEquation,\n",
    "    N: int,\n",
    "    total_eval: int,\n",
    "    steps: int,\n",
    "    n_threads: int = None,\n",
    "    block_dim: tuple[int, int] = None,\n",
    ") -> list:\n",
    "    time_list = []\n",
    "    for _ in range(total_eval):\n",
    "        with Solver(\"../build/libDiffusionEquation.so\", N=N) as solver:\n",
    "            if n_threads:\n",
    "                solver.set_num_threads(n_threads)\n",
    "\n",
    "            if block_dim:\n",
    "                solver.set_block_dim(*block_dim)\n",
    "\n",
    "            start = time.time()\n",
    "            for _ in range(steps):\n",
    "                solver.step()\n",
    "            end = time.time()\n",
    "\n",
    "            time_list.append(end - start)\n",
    "    return time_list"
   ]
  },
  {
   "cell_type": "code",
   "execution_count": 19,
   "metadata": {},
   "outputs": [],
   "source": [
    "def get_thread_num(N, block_dim_x, block_dim_y):\n",
    "    num_blocks = ((N - 2 + block_dim_x - 1) / block_dim_x) * (\n",
    "        (N - 2 + block_dim_y - 1) / block_dim_y\n",
    "    )\n",
    "    return block_dim_x * block_dim_y * num_blocks"
   ]
  },
  {
   "cell_type": "code",
   "execution_count": 2,
   "metadata": {},
   "outputs": [],
   "source": [
    "def read_execution_file(file_path: str, column_name:str) -> pd.DataFrame:\n",
    "    data_dict = {} \n",
    "    data = []\n",
    "    with open(file_path, \"r\") as file:\n",
    "        for line in file:\n",
    "            data.append(float(line.strip()))\n",
    "        data_dict[column_name] = data\n",
    "        return pd.DataFrame(data_dict)"
   ]
  },
  {
   "cell_type": "markdown",
   "metadata": {},
   "source": [
    "### Measure Execution time of the Different Solutions\n"
   ]
  },
  {
   "cell_type": "markdown",
   "metadata": {},
   "source": [
    "#### Sequential implementation\n"
   ]
  },
  {
   "cell_type": "code",
   "execution_count": 20,
   "metadata": {},
   "outputs": [],
   "source": [
    "# times = measure_execution_time(SequentialDiffusionEquation, 500, 10, 1000)\n",
    "# print(\"Time elapsed: \", sum(times) / len(times), \"+/-\", standard_deviation(times))"
   ]
  },
  {
   "cell_type": "markdown",
   "metadata": {},
   "source": [
    "#### OpenMP implementation\n"
   ]
  },
  {
   "cell_type": "code",
   "execution_count": 21,
   "metadata": {},
   "outputs": [],
   "source": [
    "# times = measure_execution_time(OMPdiffusionEquation, 500, 10, 1000)\n",
    "# print(\"Time elapsed: \", sum(times) / len(times), \"+/-\", standard_deviation(times))"
   ]
  },
  {
   "cell_type": "markdown",
   "metadata": {},
   "source": [
    "#### CUDA implementation\n"
   ]
  },
  {
   "cell_type": "code",
   "execution_count": 22,
   "metadata": {},
   "outputs": [],
   "source": [
    "# times = measure_execution_time(CUDADiffusionEquation, 500, 10, 1000)\n",
    "# print(\"Time elapsed: \", sum(times) / len(times), \"+/-\", standard_deviation(times))"
   ]
  },
  {
   "cell_type": "markdown",
   "metadata": {},
   "source": [
    "### Firsts Results\n"
   ]
  },
  {
   "cell_type": "markdown",
   "metadata": {},
   "source": [
    "Now that we can measure the execution time of both implementations, let's compare them and check if the OpenMP implementation is faster than the Sequential implementation\n"
   ]
  },
  {
   "cell_type": "code",
   "execution_count": 9,
   "metadata": {},
   "outputs": [],
   "source": [
    "# Configs\n",
    "N = 3000\n",
    "\n",
    "total_evaluations = 15\n",
    "total_steps = 1000\n",
    "num_threads_omp = [4]\n",
    "cuda_block_dims = [(16, 16), (32, 32)]\n",
    "folder_path = \"../data/performance/final_report\"\n",
    "file_name = \"All_EduardoNotebook.csv\"\n",
    "\n",
    "# Outuput data\n",
    "times_data = {}"
   ]
  },
  {
   "cell_type": "code",
   "execution_count": null,
   "metadata": {},
   "outputs": [],
   "source": [
    "# # Just to make the notebook screen goes off before the execution\n",
    "# time.sleep(80)"
   ]
  },
  {
   "cell_type": "code",
   "execution_count": 10,
   "metadata": {},
   "outputs": [],
   "source": [
    "# Sequential Solver\n",
    "times_data[\"Sequential\"] = measure_execution_time(\n",
    "    SequentialDiffusionEquation, N, total_evaluations, total_steps\n",
    ")"
   ]
  },
  {
   "cell_type": "code",
   "execution_count": 11,
   "metadata": {},
   "outputs": [],
   "source": [
    "# OMP Solver\n",
    "for num_threads in num_threads_omp:\n",
    "    times_data[f\"OMP {num_threads}\"] = measure_execution_time(\n",
    "        OMPdiffusionEquation, N, total_evaluations, total_steps, n_threads=num_threads\n",
    "    )"
   ]
  },
  {
   "cell_type": "code",
   "execution_count": 12,
   "metadata": {},
   "outputs": [],
   "source": [
    "# CUDA solver\n",
    "for block_dim in [(16, 16), (32, 32)]:\n",
    "    times_data[f\"CUDA {block_dim}\"] = measure_execution_time(\n",
    "        CUDADiffusionEquation, N, total_evaluations, total_steps, block_dim=block_dim\n",
    "    )"
   ]
  },
  {
   "cell_type": "code",
   "execution_count": 13,
   "metadata": {},
   "outputs": [],
   "source": [
    "# Save data into a csv file\n",
    "pd.DataFrame(times_data).to_csv(\n",
    "    os.path.join(folder_path, f\"times_{file_name}\"), index=False\n",
    ")"
   ]
  },
  {
   "cell_type": "code",
   "execution_count": 10,
   "metadata": {},
   "outputs": [],
   "source": [
    "path = \"../build/results/*.txt\"\n",
    "\n",
    "for file in sorted(glob(path)):\n",
    "    column_name = file.split(\"/\")[-1].split(\".\")[0]\n",
    "    data = read_execution_file(file, column_name)\n",
    "    times_data[column_name] = data[column_name]\n",
    "\n",
    "times_data = pd.DataFrame(times_data)\n",
    "\n",
    "times_data.to_csv(\n",
    "    os.path.join(folder_path, f\"times_{file_name}\"), index=False\n",
    ")\n",
    "\n",
    "# Compute mean, std and speedup\n",
    "mean_data = times_data.mean()\n",
    "std_data = times_data.std()\n",
    "speedup_data = pd.Series([mean_data[\"seq\"] / mean_data[col] for col in times_data], index=times_data.columns)\n",
    "\n",
    "# Create csv table with metrics\n",
    "pd.DataFrame({\n",
    "    \"experiment\": times_data.columns,\n",
    "    \"mean\": mean_data,\n",
    "    \"std\": std_data,\n",
    "    \"speedup\": speedup_data\n",
    "}).to_csv(os.path.join(folder_path, f\"metrics_{file_name}\"), index=False)"
   ]
  },
  {
   "cell_type": "code",
   "execution_count": null,
   "metadata": {},
   "outputs": [],
   "source": [
    "times_df = pd.read_csv(os.path.join(folder_path, f\"times_{file_name}\"))\n",
    "\n",
    "table = {}\n",
    "table[\"Experiment\"] = (\n",
    "    [\"Sequential\"]\n",
    "    + [f\"OMP {num_threads}\" for num_threads in num_threads_omp]\n",
    "    + [f\"CUDA {block_dim}\" for block_dim in [(16, 16), (32, 32)]]\n",
    ")\n",
    "table[\"Num Threads\"] = (\n",
    "    [1]\n",
    "    + num_threads_omp\n",
    "    + [get_thread_num(N, 16, 16), get_thread_num(N, 32, 32)]\n",
    ")\n",
    "table[\"Time\"] = (\n",
    "    [times_df[\"Sequential\"].mean()]\n",
    "    + [times_df[f\"OMP {num_threads}\"].mean() for num_threads in num_threads_omp]\n",
    "    + [times_df[f\"CUDA {(16, 16)}\"].mean(), times_df[f\"CUDA {(32, 32)}\"].mean()]\n",
    ")\n",
    "table[\"STD\"] = (\n",
    "    [times_df[\"Sequential\"].std()]\n",
    "    + [times_df[f\"OMP {num_threads}\"].std() for num_threads in num_threads_omp]\n",
    "    + [times_df[f\"CUDA {(16, 16)}\"].std(), times_df[f\"CUDA {(32, 32)}\"].std()]\n",
    ")\n",
    "table[\"Speedup\"] = [\n",
    "    times_df[\"Sequential\"].mean() / x\n",
    "    for x in [times_df[\"Sequential\"].mean()]\n",
    "    + [times_df[f\"OMP {num_threads}\"].mean() for num_threads in num_threads_omp]\n",
    "    + [times_df[f\"CUDA {(16, 16)}\"].mean(), times_df[f\"CUDA {(32, 32)}\"].mean()]\n",
    "]\n",
    "table[\"Efficiency\"] = (\n",
    "    [1]\n",
    "    + [\n",
    "        times_df[\"Sequential\"].mean() / x / num_threads\n",
    "        for x, num_threads in zip(\n",
    "            [times_df[f\"OMP {num_threads}\"].mean() for num_threads in num_threads_omp],\n",
    "            num_threads_omp,\n",
    "        )\n",
    "    ]\n",
    "    + [\n",
    "        times_df[\"Sequential\"].mean()\n",
    "        / times_df[f\"CUDA {(16, 16)}\"].mean()\n",
    "        / get_thread_num(N, 16, 16),\n",
    "        times_df[\"Sequential\"].mean()\n",
    "        / times_df[f\"CUDA {(32, 32)}\"].mean()\n",
    "        / get_thread_num(N, 32, 32),\n",
    "    ]\n",
    ")\n",
    "\n",
    "metrics_df = pd.DataFrame(table)\n",
    "display(metrics_df)\n",
    "\n",
    "metrics_df.to_csv(os.path.join(folder_path, f\"metrics_{file_name}\"), index=False)"
   ]
  },
  {
   "cell_type": "markdown",
   "metadata": {},
   "source": [
    "#### Plot the results\n"
   ]
  },
  {
   "cell_type": "code",
   "execution_count": null,
   "metadata": {},
   "outputs": [],
   "source": [
    "# plot the results times in box plots\n",
    "times_df = pd.read_csv(os.path.join(folder_path, f\"times_{file_name}\"))\n",
    "\n",
    "times_sequential = pd.read_csv(\"../data/performance/report2/times_CUDA_EduardoNotebook.csv\")[\"Sequential\"]\n",
    "\n",
    "df = pd.concat([times_df, times_sequential], axis=1)\n",
    "\n",
    "\n",
    "# Calculate the speedup\n",
    "mean_time_omp = df[\"OMP 4\"].mean()\n",
    "std_time_omp = df[\"OMP 4\"].std()\n",
    "speedup = df[\"Sequential\"].mean() / mean_time_omp\n",
    "\n",
    "print(f\"Speedup: {speedup}\")\n",
    "print(f\"OMP Time: {mean_time_omp} +/- {std_time_omp}\")\n",
    "\n",
    "\n",
    "print(df)\n",
    "# Apply a style\n",
    "sns.set_theme(style=\"whitegrid\")\n",
    "\n",
    "\n",
    "plt.figure(figsize=(4, 6))\n",
    "b = sns.boxplot(data=df[\"OMP 4\"], palette=\"Set1\")\n",
    "b.set(xlabel=None, ylabel=None)\n",
    "plt.title(\"Tempo de Execução Sequencial/OMP\")\n",
    "plt.savefig(os.path.join(folder_path, f\"times_boxplot_omp.png\"), dpi=300)\n",
    "plt.show()\n",
    "\n",
    "\n",
    "plt.figure(figsize=(4, 6))\n",
    "b = sns.boxplot(data=df[\"Sequential\"], palette=\"Set2\")\n",
    "b.set(xlabel=None, ylabel=None)\n",
    "plt.title(\"Tempo de Execução Sequencial\")\n",
    "plt.savefig(os.path.join(folder_path, f\"times_boxplot_sequential.png\"), dpi=300)\n",
    "plt.show()\n",
    "\n",
    "plt.figure(figsize=(6, 6))\n",
    "sns.boxplot(data=times_df[[\"CUDA (16, 16)\", \"CUDA (32, 32)\"]], palette=\"Set3\")\n",
    "plt.ylabel(\"Tempo (s)\")\n",
    "plt.xlabel(\"Experimento\")\n",
    "plt.title(\"Tempo de Execução CUDA\")\n",
    "plt.savefig(os.path.join(folder_path, f\"times_boxplot_cuda.png\"), dpi=300)\n",
    "plt.show()"
   ]
  },
  {
   "cell_type": "code",
   "execution_count": null,
   "metadata": {},
   "outputs": [],
   "source": [
    "metrics_df = pd.read_csv(os.path.join(folder_path, f\"metrics_{file_name}\"))\n",
    "\n",
    "# Get only the values with the index that have mpi in the experiment name\n",
    "mpi_speedup_df = metrics_df.loc[metrics_df[\"experiment\"].str.contains(\"mpi\"), [\"experiment\", \"speedup\"]]\n",
    "omp_speedup_df = metrics_df.loc[metrics_df[\"experiment\"].str.contains(\"omp\"), [\"experiment\", \"speedup\"]]\n",
    "\n",
    "\n",
    "# Extract the number of processes from the experiment string and sort the dataframe\n",
    "mpi_speedup_df[\"n_procs\"] = mpi_speedup_df[\"experiment\"].apply(lambda x: int(x.split(\"_\")[1]))\n",
    "mpi_speedup_df = mpi_speedup_df.sort_values(\"n_procs\")\n",
    "\n",
    "omp_speedup_df[\"n_procs\"] = omp_speedup_df[\"experiment\"].apply(lambda x: int(x.split(\"_\")[1]))\n",
    "omp_speedup_df = omp_speedup_df.sort_values(\"n_procs\")\n",
    "\n",
    "\n",
    "# Plot the actual speedup\n",
    "plt.plot(\n",
    "    mpi_speedup_df[\"n_procs\"],\n",
    "    mpi_speedup_df[\"speedup\"],\n",
    "    label=\"MPI Speedup\",\n",
    "    marker=\"x\",    \n",
    ")\n",
    "\n",
    "# Plot OMP speedup\n",
    "plt.plot(\n",
    "    omp_speedup_df[\"n_procs\"],\n",
    "    omp_speedup_df[\"speedup\"],\n",
    "    label=\"OMP Speedup\",\n",
    "    marker=\"o\",\n",
    ")\n",
    "\n",
    "# Plot the ideal (linear) speedup\n",
    "plt.plot(\n",
    "    mpi_speedup_df[\"n_procs\"],\n",
    "    mpi_speedup_df[\"n_procs\"],\n",
    "    label=\"Speedup Linear\",\n",
    "    linestyle=\"--\",\n",
    "    marker=\"*\",\n",
    ")\n",
    "\n",
    "\n",
    "cuda_speedup = metrics_df.loc[metrics_df[\"experiment\"] == \"cuda\", \"speedup\"].values[0]\n",
    "\n",
    "# Create a horizontal line to be the omp and cuda speedup\n",
    "plt.axhline(cuda_speedup, color=\"red\", linestyle=\"--\", label=\"CUDA Speedup\")\n",
    "\n",
    "# Set y-axis limits\n",
    "plt.ylim(1, metrics_df[\"speedup\"].max() + 0.5)\n",
    "\n",
    "# Set the x-axis ticks to only those values present in n_procs\n",
    "unique_n_procs = sorted(mpi_speedup_df[\"n_procs\"].unique())\n",
    "plt.xticks(unique_n_procs)\n",
    "\n",
    "# Add grid, labels, title, and legend\n",
    "plt.grid(True)\n",
    "plt.title(\"Speedup vs Nº Threads\")\n",
    "plt.xlabel(\"Nº Threads / Processos\")\n",
    "plt.ylabel(\"Speedup\")\n",
    "plt.legend()\n",
    "\n",
    "plt.show()"
   ]
  },
  {
   "cell_type": "code",
   "execution_count": null,
   "metadata": {},
   "outputs": [],
   "source": [
    "# plot the results together in a single graph\n",
    "metrics_df = pd.read_csv(os.path.join(folder_path, f\"metrics_{file_name}\"))\n",
    "\n",
    "# Plot the efficiency\n",
    "plt.plot(\n",
    "    metrics_df[\"Num Threads\"], metrics_df[\"Efficiency\"], label=\"Eficiência\", marker=\"o\"\n",
    ")\n",
    "# Add the linear efficiency line\n",
    "plt.plot(\n",
    "    metrics_df[\"Num Threads\"],\n",
    "    [1] * len(metrics_df[\"Num Threads\"]),\n",
    "    label=\"Eficiência Linear\",\n",
    "    linestyle=\"--\",\n",
    "    marker=\"o\",\n",
    ")\n",
    "\n",
    "plt.grid()\n",
    "plt.title(\"Eficiência vs Nº Threads\")\n",
    "plt.xlabel(\"Nº Threads\")\n",
    "plt.ylabel(\"Eficiência\")\n",
    "plt.legend()\n",
    "plt.show()"
   ]
  },
  {
   "cell_type": "code",
   "execution_count": null,
   "metadata": {},
   "outputs": [],
   "source": [
    "metrics_df = pd.read_csv(os.path.join(folder_path, f\"metrics_{file_name}\"))\n",
    "\n",
    "# Calculate percentage of linear speedup achieved\n",
    "metrics_df[\"Percent of Linear Speedup\"] = (\n",
    "    metrics_df[\"Speedup\"] / metrics_df[\"Num Threads\"]\n",
    ") * 100\n",
    "\n",
    "# Plot the percentage\n",
    "plt.plot(\n",
    "    metrics_df[\"Num Threads\"],\n",
    "    metrics_df[\"Percent of Linear Speedup\"],\n",
    "    label=\"Percent of Linear Speedup\",\n",
    "    marker=\"o\",\n",
    ")\n",
    "\n",
    "plt.grid()\n",
    "plt.title(\"Percentage of Linear Speedup Achieved vs Number of Threads\")\n",
    "plt.xlabel(\"Number of Threads\")\n",
    "plt.ylabel(\"Percentage of Linear Speedup Achieved (%)\")\n",
    "plt.legend()\n",
    "plt.show()"
   ]
  },
  {
   "cell_type": "code",
   "execution_count": null,
   "metadata": {},
   "outputs": [],
   "source": [
    "metrics_df = pd.read_csv(os.path.join(folder_path, f\"metrics_{file_name}\"))\n",
    "\n",
    "fig, ax1 = plt.subplots()\n",
    "\n",
    "color = \"tab:blue\"\n",
    "ax1.set_xlabel(\"Number of Threads\")\n",
    "ax1.set_ylabel(\"Measured Speedup\", color=color)\n",
    "ax1.plot(\n",
    "    metrics_df[\"Num Threads\"],\n",
    "    metrics_df[\"Speedup\"],\n",
    "    label=\"Measured Speedup\",\n",
    "    color=color,\n",
    "    marker=\"o\",\n",
    ")\n",
    "ax1.tick_params(axis=\"y\", labelcolor=color)\n",
    "\n",
    "ax2 = ax1.twinx()  # Instantiate a second axes sharing the same x-axis\n",
    "\n",
    "color = \"tab:red\"\n",
    "ax2.set_ylabel(\"Linear Speedup\", color=color)\n",
    "ax2.plot(\n",
    "    metrics_df[\"Num Threads\"],\n",
    "    metrics_df[\"Num Threads\"],\n",
    "    label=\"Linear Speedup\",\n",
    "    linestyle=\"--\",\n",
    "    color=color,\n",
    ")\n",
    "ax2.tick_params(axis=\"y\", labelcolor=color)\n",
    "\n",
    "# Combined legend\n",
    "lines_labels = [ax.get_legend_handles_labels() for ax in [ax1, ax2]]\n",
    "lines, labels = [sum(lol, []) for lol in zip(*lines_labels)]\n",
    "fig.legend(lines, labels, loc=\"upper left\")\n",
    "\n",
    "plt.title(\"Speedup vs Number of Threads\")\n",
    "plt.grid()\n",
    "plt.show()"
   ]
  }
 ],
 "metadata": {
  "kernelspec": {
   "display_name": "Python 3",
   "language": "python",
   "name": "python3"
  },
  "language_info": {
   "codemirror_mode": {
    "name": "ipython",
    "version": 3
   },
   "file_extension": ".py",
   "mimetype": "text/x-python",
   "name": "python",
   "nbconvert_exporter": "python",
   "pygments_lexer": "ipython3",
   "version": "3.12.7"
  }
 },
 "nbformat": 4,
 "nbformat_minor": 2
}
